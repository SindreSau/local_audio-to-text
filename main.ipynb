{
 "cells": [
  {
   "cell_type": "markdown",
   "id": "9aeeb0f61a21639c",
   "metadata": {},
   "source": [
    "# Interactive Audio Transcription and Summarization\n",
    "\n",
    "This notebook allows you to transcribe an audio file and generate a summary using Ollama."
   ]
  },
  {
   "cell_type": "code",
   "execution_count": 1,
   "id": "c1780a80bc3a0868",
   "metadata": {
    "ExecuteTime": {
     "end_time": "2024-09-19T12:47:04.413958Z",
     "start_time": "2024-09-19T12:47:02.561229Z"
    }
   },
   "outputs": [
    {
     "data": {
      "application/vnd.jupyter.widget-view+json": {
       "model_id": "481c2fb5ab61498a894ea49e85a1d55e",
       "version_major": 2,
       "version_minor": 0
      },
      "text/plain": [
       "VBox(children=(HBox(children=(Dropdown(description='Model:', index=5, layout=Layout(width='50%'), options=('op…"
      ]
     },
     "metadata": {},
     "output_type": "display_data"
    }
   ],
   "source": [
    "import ipywidgets as widgets\n",
    "from IPython.display import display\n",
    "from helpers import *\n",
    "\n",
    "# Create the model dropdown\n",
    "model_dropdown = widgets.Dropdown(\n",
    "    options=available_models,\n",
    "    value=\"distil-whisper/distil-large-v2\",\n",
    "    description=\"Model:\",\n",
    "    disabled=False,\n",
    "    layout=widgets.Layout(width=\"50%\"),\n",
    ")\n",
    "\n",
    "# Create the file uploader\n",
    "file_uploader = widgets.FileUpload(\n",
    "    accept=\".wav,.mp3,.m4a\",\n",
    "    multiple=False,\n",
    "    description=\"Audio File:\",\n",
    "    layout=widgets.Layout(width=\"50%\"),\n",
    ")\n",
    "\n",
    "# Create the transcribe button\n",
    "transcribe_button = widgets.Button(\n",
    "    description=\"Transcribe\",\n",
    "    disabled=False,\n",
    "    button_style=\"primary\",\n",
    "    tooltip=\"Click to transcribe the audio file\",\n",
    "    icon=\"check\",\n",
    ")\n",
    "\n",
    "# Create an output widget to display results\n",
    "output = widgets.Output()\n",
    "\n",
    "\n",
    "# Function to handle transcription\n",
    "def on_transcribe_button_clicked(b):\n",
    "    with output:\n",
    "        output.clear_output()\n",
    "        if not file_uploader.value:\n",
    "            print(\"Please upload an audio file first.\")\n",
    "            return\n",
    "\n",
    "        uploaded_file = file_uploader.value[0]\n",
    "        file_name = uploaded_file.name\n",
    "\n",
    "        print(f\"Processing {file_name} using model {model_dropdown.value}...\")\n",
    "        result = process_audio(file_name, model_dropdown.value)\n",
    "\n",
    "        print(\"\\nSummary:\")\n",
    "        print(result[\"summary\"][\"summary\"])\n",
    "        print(f\"\\nSummary saved to {result['file_path']}\")\n",
    "\n",
    "        # Store the transcription in a global variable for later use\n",
    "        global current_transcription\n",
    "        current_transcription = result[\"transcription\"]\n",
    "\n",
    "\n",
    "# Attach the function to the button\n",
    "transcribe_button.on_click(on_transcribe_button_clicked)\n",
    "\n",
    "# Create a horizontal box for the model dropdown and file uploader\n",
    "input_box = widgets.HBox([model_dropdown, file_uploader])\n",
    "\n",
    "# Create a vertical box for all widgets\n",
    "widget_box = widgets.VBox([input_box, transcribe_button, output])\n",
    "\n",
    "# Display the combined widget\n",
    "display(widget_box)"
   ]
  }
 ],
 "metadata": {
  "kernelspec": {
   "display_name": "Python 3",
   "language": "python",
   "name": "python3"
  },
  "language_info": {
   "codemirror_mode": {
    "name": "ipython",
    "version": 3
   },
   "file_extension": ".py",
   "mimetype": "text/x-python",
   "name": "python",
   "nbconvert_exporter": "python",
   "pygments_lexer": "ipython3",
   "version": "3.12.0"
  }
 },
 "nbformat": 4,
 "nbformat_minor": 5
}
