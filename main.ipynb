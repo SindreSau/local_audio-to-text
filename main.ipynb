{
 "cells": [
  {
   "metadata": {
    "jupyter": {
     "is_executing": true
    }
   },
   "cell_type": "code",
   "source": "",
   "id": "cf7f3d60dad60465",
   "outputs": [],
   "execution_count": null
  },
  {
   "metadata": {},
   "cell_type": "markdown",
   "source": [
    "# Interactive Audio Transcription and Summarization\n",
    "\n",
    "This notebook allows you to transcribe an audio file and generate a summary using Ollama."
   ],
   "id": "9aeeb0f61a21639c"
  },
  {
   "metadata": {
    "ExecuteTime": {
     "end_time": "2024-09-19T12:47:04.413958Z",
     "start_time": "2024-09-19T12:47:02.561229Z"
    }
   },
   "cell_type": "code",
   "source": [
    "import json\n",
    "from datetime import datetime\n",
    "import subprocess\n",
    "import ollama\n",
    "import torch\n",
    "from transformers import AutoModelForSpeechSeq2Seq, AutoProcessor, pipeline\n",
    "import ipywidgets as widgets\n",
    "from IPython.display import display\n",
    "\n",
    "# Check for CUDA availability\n",
    "device = \"cuda:0\" if torch.cuda.is_available() else \"cpu\"\n",
    "torch_dtype = torch.float16 if torch.cuda.is_available() else torch.float32\n",
    "print(f\"Using device: {device}\")"
   ],
   "id": "c1780a80bc3a0868",
   "outputs": [
    {
     "name": "stdout",
     "output_type": "stream",
     "text": [
      "Using device: cpu\n"
     ]
    }
   ],
   "execution_count": 4
  },
  {
   "metadata": {},
   "cell_type": "markdown",
   "source": "## Load the Speech Recognition Model",
   "id": "1a5702243957b383"
  },
  {
   "metadata": {
    "ExecuteTime": {
     "end_time": "2024-09-19T12:53:37.940536Z",
     "start_time": "2024-09-19T12:53:37.937710Z"
    }
   },
   "cell_type": "code",
   "source": [
    "available_models = [\n",
    "    \"openai/whisper-tiny\",\n",
    "    \"openai/whisper-base\",\n",
    "    \"openai/whisper-small\",\n",
    "    \"openai/whisper-medium\",\n",
    "    \"openai/whisper-large-v3\",\n",
    "    \"distil-whisper/distil-large-v2\",\n",
    "    \"distil-whisper/distil-medium.en\",\n",
    "]"
   ],
   "id": "71318cdd1598487d",
   "outputs": [],
   "execution_count": 8
  },
  {
   "metadata": {
    "ExecuteTime": {
     "end_time": "2024-09-19T12:54:45.706572Z",
     "start_time": "2024-09-19T12:54:45.698622Z"
    }
   },
   "cell_type": "code",
   "source": [
    "model_dropdown = widgets.Dropdown(\n",
    "    options=available_models,\n",
    "    value=\"distil-whisper/distil-large-v2\",\n",
    "    description=\"Model:\",\n",
    "    disabled=False,\n",
    ")"
   ],
   "id": "d0aecbcac563edd8",
   "outputs": [],
   "execution_count": 10
  },
  {
   "metadata": {},
   "cell_type": "code",
   "outputs": [],
   "execution_count": null,
   "source": [
    "model_id = model_dropdown.value\n",
    "\n",
    "model = AutoModelForSpeechSeq2Seq.from_pretrained(\n",
    "    model_id, torch_dtype=torch_dtype, low_cpu_mem_usage=True, use_safetensors=True\n",
    ")\n",
    "model.to(device)\n",
    "\n",
    "processor = AutoProcessor.from_pretrained(model_id)\n",
    "\n",
    "pipe = pipeline(\n",
    "    \"automatic-speech-recognition\",\n",
    "    model=model,\n",
    "    tokenizer=processor.tokenizer,\n",
    "    feature_extractor=processor.feature_extractor,\n",
    "    torch_dtype=torch_dtype,\n",
    "    device=device,\n",
    ")\n",
    "\n",
    "print(\"Speech recognition model loaded successfully.\")"
   ],
   "id": "21574276d168da3f"
  },
  {
   "metadata": {},
   "cell_type": "markdown",
   "source": "## File Selection and Transcription",
   "id": "b4470736b896e693"
  },
  {
   "metadata": {},
   "cell_type": "code",
   "outputs": [],
   "execution_count": null,
   "source": [
    "def transcribe_audio(audio_file_path):\n",
    "    # Check if file format is not wav or mp3\n",
    "    if audio_file_path.split(\".\")[-1] not in [\"wav\", \"mp3\"]:\n",
    "        # Convert the audio file to mp3\n",
    "        file_name = audio_file_path.split(\".\")[0]\n",
    "        subprocess.run([\"ffmpeg\", \"-i\", audio_file_path, f\"{file_name}.mp3\"])\n",
    "        audio_file_path = f\"{file_name}.mp3\"\n",
    "    \n",
    "    # Transcribe the audio\n",
    "    transcription = pipeline(audio_file_path)\n",
    "    return transcription[\"text\"]\n",
    "\n",
    "# Create file uploader widget\n",
    "file_uploader = widgets.FileUpload(\n",
    "    accept='.wav,.mp3,.m4a',  # Accepted file extensions\n",
    "    multiple=False  # Allow only single file selection\n",
    ")\n",
    "\n",
    "# Create a button to trigger transcription\n",
    "transcribe_button = widgets.Button(description=\"Transcribe\")\n",
    "output = widgets.Output()\n",
    "\n",
    "def on_transcribe_button_clicked(b):\n",
    "    with output:\n",
    "        output.clear_output()\n",
    "        if not file_uploader.value:\n",
    "            print(\"Please upload an audio file first.\")\n",
    "            return\n",
    "        \n",
    "        # Get the uploaded file\n",
    "        uploaded_file = next(iter(file_uploader.value.values()))\n",
    "        file_name = uploaded_file['metadata']['name']\n",
    "        \n",
    "        # Save the file temporarily\n",
    "        with open(file_name, 'wb') as f:\n",
    "            f.write(uploaded_file['content'])\n",
    "        \n",
    "        print(f\"Transcribing {file_name}...\")\n",
    "        transcription = transcribe_audio(file_name)\n",
    "        print(\"Transcription:\")\n",
    "        print(transcription)\n",
    "        \n",
    "        # Store the transcription in a global variable for later use\n",
    "        global current_transcription\n",
    "        current_transcription = transcription\n",
    "\n",
    "transcribe_button.on_click(on_transcribe_button_clicked)\n",
    "\n",
    "display(widgets.VBox([file_uploader, transcribe_button, output]))"
   ],
   "id": "bcbb15dd50a68fb7"
  }
 ],
 "metadata": {
  "kernelspec": {
   "display_name": "Python 3",
   "language": "python",
   "name": "python3"
  },
  "language_info": {
   "codemirror_mode": {
    "name": "ipython",
    "version": 2
   },
   "file_extension": ".py",
   "mimetype": "text/x-python",
   "name": "python",
   "nbconvert_exporter": "python",
   "pygments_lexer": "ipython2",
   "version": "2.7.6"
  }
 },
 "nbformat": 4,
 "nbformat_minor": 5
}
